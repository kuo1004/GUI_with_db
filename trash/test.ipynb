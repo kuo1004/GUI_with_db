{
 "cells": [
  {
   "cell_type": "code",
   "execution_count": 5,
   "metadata": {},
   "outputs": [
    {
     "ename": "ModuleNotFoundError",
     "evalue": "No module named 'PySimpleGUI'",
     "output_type": "error",
     "traceback": [
      "\u001b[1;31m---------------------------------------------------------------------------\u001b[0m",
      "\u001b[1;31mModuleNotFoundError\u001b[0m                       Traceback (most recent call last)",
      "\u001b[1;32mc:\\Users\\user\\Desktop\\郭善莉的資料\\大一下\\coding class\\summary\\test.ipynb Cell 1\u001b[0m in \u001b[0;36m<cell line: 1>\u001b[1;34m()\u001b[0m\n\u001b[1;32m----> <a href='vscode-notebook-cell:/c%3A/Users/user/Desktop/%E9%83%AD%E5%96%84%E8%8E%89%E7%9A%84%E8%B3%87%E6%96%99/%E5%A4%A7%E4%B8%80%E4%B8%8B/coding%20class/summary/test.ipynb#W0sZmlsZQ%3D%3D?line=0'>1</a>\u001b[0m \u001b[39mimport\u001b[39;00m \u001b[39mPySimpleGUI\u001b[39;00m \u001b[39mas\u001b[39;00m \u001b[39msg\u001b[39;00m\n\u001b[0;32m      <a href='vscode-notebook-cell:/c%3A/Users/user/Desktop/%E9%83%AD%E5%96%84%E8%8E%89%E7%9A%84%E8%B3%87%E6%96%99/%E5%A4%A7%E4%B8%80%E4%B8%8B/coding%20class/summary/test.ipynb#W0sZmlsZQ%3D%3D?line=1'>2</a>\u001b[0m sg\u001b[39m.\u001b[39mtheme_previewer()\n",
      "\u001b[1;31mModuleNotFoundError\u001b[0m: No module named 'PySimpleGUI'"
     ]
    }
   ],
   "source": [
    "import PySimpleGUI as sg\n",
    "sg.theme_previewer()"
   ]
  },
  {
   "cell_type": "code",
   "execution_count": null,
   "metadata": {},
   "outputs": [],
   "source": [
    "bConn=myconn.connect(\n",
    "    host=\"localhost\",\n",
    "    user=\"Kuo\",\n",
    "    password=\"D1146229\",\n",
    "    database=\"Kuo\"\n",
    "    )\n"
   ]
  }
 ],
 "metadata": {
  "kernelspec": {
   "display_name": "Python 3",
   "language": "python",
   "name": "python3"
  },
  "language_info": {
   "codemirror_mode": {
    "name": "ipython",
    "version": 3
   },
   "file_extension": ".py",
   "mimetype": "text/x-python",
   "name": "python",
   "nbconvert_exporter": "python",
   "pygments_lexer": "ipython3",
   "version": "3.10.7"
  },
  "orig_nbformat": 4
 },
 "nbformat": 4,
 "nbformat_minor": 2
}
