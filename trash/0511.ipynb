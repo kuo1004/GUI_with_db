{
 "cells": [
  {
   "cell_type": "code",
   "execution_count": 4,
   "metadata": {},
   "outputs": [
    {
     "name": "stdout",
     "output_type": "stream",
     "text": [
      "CMySQLCursor: SHOW DATABASES\n",
      "('information_schema',)\n",
      "('kuo',)\n",
      "('mysql',)\n",
      "('performance_schema',)\n",
      "('phpmyadmin',)\n",
      "('test',)\n"
     ]
    }
   ],
   "source": [
    "import mysql.connector as myconn\n",
    "\n",
    "dbConn=myconn.connect(\n",
    "    host=\"localhost\",\n",
    "    user=\"Kuo\",\n",
    "    password=\"D1146229\"\n",
    ")\n",
    "my_cursor=dbConn.cursor()\n",
    "my_cursor.execute(\"SHOW DATABASES\")\n",
    "print(my_cursor)\n",
    "for db in my_cursor:\n",
    "    print(db)\n",
    "    "
   ]
  },
  {
   "cell_type": "code",
   "execution_count": 5,
   "metadata": {},
   "outputs": [
    {
     "data": {
      "text/plain": [
       "True"
      ]
     },
     "execution_count": 5,
     "metadata": {},
     "output_type": "execute_result"
    }
   ],
   "source": [
    "# 創建資料表的 SQL 語句\n",
    "create_table_sql = \"\"\"\n",
    "    CREATE TABLE IF NOT EXISTS test.users (\n",
    "        id INT AUTO_INCREMENT PRIMARY KEY,\n",
    "        name VARCHAR(255) NOT NULL,\n",
    "        email VARCHAR(255) NOT NULL,\n",
    "        username VARCHAR(255) NOT NULL,\n",
    "        password VARCHAR(255) NOT NULL\n",
    "    )\"\"\"\n",
    "\n",
    "# 創建資料表\n",
    "cursor = dbConn.cursor()\n",
    "cursor.execute(\"CREATE DATABASE IF NOT EXISTS test\")\n",
    "cursor.execute(\"USE test\")\n",
    "cursor.execute(create_table_sql)\n",
    "dbConn.commit()\n",
    "cursor.close()"
   ]
  },
  {
   "cell_type": "code",
   "execution_count": 6,
   "metadata": {},
   "outputs": [
    {
     "ename": "DataError",
     "evalue": "1136 (21S01): Column count doesn't match value count at row 1",
     "output_type": "error",
     "traceback": [
      "\u001b[1;31m---------------------------------------------------------------------------\u001b[0m",
      "\u001b[1;31mMySQLInterfaceError\u001b[0m                       Traceback (most recent call last)",
      "File \u001b[1;32mc:\\Users\\user\\AppData\\Local\\Programs\\Python\\Python310\\lib\\site-packages\\mysql\\connector\\connection_cext.py:611\u001b[0m, in \u001b[0;36mCMySQLConnection.cmd_query\u001b[1;34m(self, query, raw, buffered, raw_as_string)\u001b[0m\n\u001b[0;32m    610\u001b[0m         query \u001b[39m=\u001b[39m query\u001b[39m.\u001b[39mencode(\u001b[39m\"\u001b[39m\u001b[39mutf-8\u001b[39m\u001b[39m\"\u001b[39m)\n\u001b[1;32m--> 611\u001b[0m     \u001b[39mself\u001b[39;49m\u001b[39m.\u001b[39;49m_cmysql\u001b[39m.\u001b[39;49mquery(\n\u001b[0;32m    612\u001b[0m         query,\n\u001b[0;32m    613\u001b[0m         raw\u001b[39m=\u001b[39;49mraw,\n\u001b[0;32m    614\u001b[0m         buffered\u001b[39m=\u001b[39;49mbuffered,\n\u001b[0;32m    615\u001b[0m         raw_as_string\u001b[39m=\u001b[39;49mraw_as_string,\n\u001b[0;32m    616\u001b[0m         query_attrs\u001b[39m=\u001b[39;49m\u001b[39mself\u001b[39;49m\u001b[39m.\u001b[39;49m_query_attrs,\n\u001b[0;32m    617\u001b[0m     )\n\u001b[0;32m    618\u001b[0m \u001b[39mexcept\u001b[39;00m MySQLInterfaceError \u001b[39mas\u001b[39;00m err:\n",
      "\u001b[1;31mMySQLInterfaceError\u001b[0m: Column count doesn't match value count at row 1",
      "\nThe above exception was the direct cause of the following exception:\n",
      "\u001b[1;31mDataError\u001b[0m                                 Traceback (most recent call last)",
      "\u001b[1;32mc:\\Users\\user\\Desktop\\郭善莉的資料\\大一下\\coding class\\0511.ipynb Cell 3\u001b[0m in \u001b[0;36m<cell line: 13>\u001b[1;34m()\u001b[0m\n\u001b[0;32m     <a href='vscode-notebook-cell:/c%3A/Users/user/Desktop/%E9%83%AD%E5%96%84%E8%8E%89%E7%9A%84%E8%B3%87%E6%96%99/%E5%A4%A7%E4%B8%80%E4%B8%8B/coding%20class/0511.ipynb#W2sZmlsZQ%3D%3D?line=9'>10</a>\u001b[0m pw_h\u001b[39m=\u001b[39mm\u001b[39m.\u001b[39mhexdigest()\n\u001b[0;32m     <a href='vscode-notebook-cell:/c%3A/Users/user/Desktop/%E9%83%AD%E5%96%84%E8%8E%89%E7%9A%84%E8%B3%87%E6%96%99/%E5%A4%A7%E4%B8%80%E4%B8%8B/coding%20class/0511.ipynb#W2sZmlsZQ%3D%3D?line=11'>12</a>\u001b[0m insSQL\u001b[39m=\u001b[39m\u001b[39mf\u001b[39m\u001b[39m'\u001b[39m\u001b[39mINSERT INTO `users`(account, name, email, password) VALUES (\u001b[39m\u001b[39m\"\u001b[39m\u001b[39m{\u001b[39;00maccount1\u001b[39m}\u001b[39;00m\u001b[39m\"\u001b[39m\u001b[39m,\u001b[39m\u001b[39m\"\u001b[39m\u001b[39m{\u001b[39;00mname1\u001b[39m}\u001b[39;00m\u001b[39m\"\u001b[39m\u001b[39m,\u001b[39m\u001b[39m\"\u001b[39m\u001b[39m{\u001b[39;00memail1\u001b[39m}\u001b[39;00m\u001b[39m\"\u001b[39m\u001b[39m,\u001b[39m\u001b[39m\"\u001b[39m\u001b[39m{\u001b[39;00mpw\u001b[39m}\u001b[39;00m\u001b[39m\"\u001b[39m\u001b[39m,\u001b[39m\u001b[39m\"\u001b[39m\u001b[39m{\u001b[39;00mpw_h\u001b[39m}\u001b[39;00m\u001b[39m\"\u001b[39m\u001b[39m)\u001b[39m\u001b[39m'\u001b[39m\n\u001b[1;32m---> <a href='vscode-notebook-cell:/c%3A/Users/user/Desktop/%E9%83%AD%E5%96%84%E8%8E%89%E7%9A%84%E8%B3%87%E6%96%99/%E5%A4%A7%E4%B8%80%E4%B8%8B/coding%20class/0511.ipynb#W2sZmlsZQ%3D%3D?line=12'>13</a>\u001b[0m my_cursor\u001b[39m.\u001b[39;49mexecute(insSQL)\n\u001b[0;32m     <a href='vscode-notebook-cell:/c%3A/Users/user/Desktop/%E9%83%AD%E5%96%84%E8%8E%89%E7%9A%84%E8%B3%87%E6%96%99/%E5%A4%A7%E4%B8%80%E4%B8%8B/coding%20class/0511.ipynb#W2sZmlsZQ%3D%3D?line=13'>14</a>\u001b[0m dbConn\u001b[39m.\u001b[39mcommit()\n",
      "File \u001b[1;32mc:\\Users\\user\\AppData\\Local\\Programs\\Python\\Python310\\lib\\site-packages\\mysql\\connector\\cursor_cext.py:330\u001b[0m, in \u001b[0;36mCMySQLCursor.execute\u001b[1;34m(self, operation, params, multi)\u001b[0m\n\u001b[0;32m    325\u001b[0m             \u001b[39mraise\u001b[39;00m ProgrammingError(\n\u001b[0;32m    326\u001b[0m                 \u001b[39m\"\u001b[39m\u001b[39mNot all parameters were used in the SQL statement\u001b[39m\u001b[39m\"\u001b[39m\n\u001b[0;32m    327\u001b[0m             )\n\u001b[0;32m    329\u001b[0m \u001b[39mtry\u001b[39;00m:\n\u001b[1;32m--> 330\u001b[0m     result \u001b[39m=\u001b[39m \u001b[39mself\u001b[39;49m\u001b[39m.\u001b[39;49m_cnx\u001b[39m.\u001b[39;49mcmd_query(\n\u001b[0;32m    331\u001b[0m         stmt,\n\u001b[0;32m    332\u001b[0m         raw\u001b[39m=\u001b[39;49m\u001b[39mself\u001b[39;49m\u001b[39m.\u001b[39;49m_raw,\n\u001b[0;32m    333\u001b[0m         buffered\u001b[39m=\u001b[39;49m\u001b[39mself\u001b[39;49m\u001b[39m.\u001b[39;49m_buffered,\n\u001b[0;32m    334\u001b[0m         raw_as_string\u001b[39m=\u001b[39;49m\u001b[39mself\u001b[39;49m\u001b[39m.\u001b[39;49m_raw_as_string,\n\u001b[0;32m    335\u001b[0m     )\n\u001b[0;32m    336\u001b[0m \u001b[39mexcept\u001b[39;00m MySQLInterfaceError \u001b[39mas\u001b[39;00m err:\n\u001b[0;32m    337\u001b[0m     \u001b[39mraise\u001b[39;00m get_mysql_exception(\n\u001b[0;32m    338\u001b[0m         msg\u001b[39m=\u001b[39merr\u001b[39m.\u001b[39mmsg, errno\u001b[39m=\u001b[39merr\u001b[39m.\u001b[39merrno, sqlstate\u001b[39m=\u001b[39merr\u001b[39m.\u001b[39msqlstate\n\u001b[0;32m    339\u001b[0m     ) \u001b[39mfrom\u001b[39;00m \u001b[39merr\u001b[39;00m\n",
      "File \u001b[1;32mc:\\Users\\user\\AppData\\Local\\Programs\\Python\\Python310\\lib\\site-packages\\mysql\\connector\\connection_cext.py:619\u001b[0m, in \u001b[0;36mCMySQLConnection.cmd_query\u001b[1;34m(self, query, raw, buffered, raw_as_string)\u001b[0m\n\u001b[0;32m    611\u001b[0m     \u001b[39mself\u001b[39m\u001b[39m.\u001b[39m_cmysql\u001b[39m.\u001b[39mquery(\n\u001b[0;32m    612\u001b[0m         query,\n\u001b[0;32m    613\u001b[0m         raw\u001b[39m=\u001b[39mraw,\n\u001b[1;32m   (...)\u001b[0m\n\u001b[0;32m    616\u001b[0m         query_attrs\u001b[39m=\u001b[39m\u001b[39mself\u001b[39m\u001b[39m.\u001b[39m_query_attrs,\n\u001b[0;32m    617\u001b[0m     )\n\u001b[0;32m    618\u001b[0m \u001b[39mexcept\u001b[39;00m MySQLInterfaceError \u001b[39mas\u001b[39;00m err:\n\u001b[1;32m--> 619\u001b[0m     \u001b[39mraise\u001b[39;00m get_mysql_exception(\n\u001b[0;32m    620\u001b[0m         err\u001b[39m.\u001b[39merrno, msg\u001b[39m=\u001b[39merr\u001b[39m.\u001b[39mmsg, sqlstate\u001b[39m=\u001b[39merr\u001b[39m.\u001b[39msqlstate\n\u001b[0;32m    621\u001b[0m     ) \u001b[39mfrom\u001b[39;00m \u001b[39merr\u001b[39;00m\n\u001b[0;32m    622\u001b[0m \u001b[39mexcept\u001b[39;00m \u001b[39mAttributeError\u001b[39;00m \u001b[39mas\u001b[39;00m err:\n\u001b[0;32m    623\u001b[0m     addr \u001b[39m=\u001b[39m (\n\u001b[0;32m    624\u001b[0m         \u001b[39mself\u001b[39m\u001b[39m.\u001b[39m_unix_socket \u001b[39mif\u001b[39;00m \u001b[39mself\u001b[39m\u001b[39m.\u001b[39m_unix_socket \u001b[39melse\u001b[39;00m \u001b[39mf\u001b[39m\u001b[39m\"\u001b[39m\u001b[39m{\u001b[39;00m\u001b[39mself\u001b[39m\u001b[39m.\u001b[39m_host\u001b[39m}\u001b[39;00m\u001b[39m:\u001b[39m\u001b[39m{\u001b[39;00m\u001b[39mself\u001b[39m\u001b[39m.\u001b[39m_port\u001b[39m}\u001b[39;00m\u001b[39m\"\u001b[39m\n\u001b[0;32m    625\u001b[0m     )\n",
      "\u001b[1;31mDataError\u001b[0m: 1136 (21S01): Column count doesn't match value count at row 1"
     ]
    }
   ],
   "source": [
    "import hashlib\n",
    "\n",
    "my_cursor=dbConn.cursor()\n",
    "m=hashlib.sha256()\n",
    "account1=\"david\"\n",
    "name1=\"Nobady\"\n",
    "email1=\"\"\n",
    "pw=\"\"\n",
    "pw_h=m.hexdigest()\n",
    "\n",
    "insSQL=f'INSERT INTO `users`(account, name, email, password) VALUES (\"{account1}\",\"{name1}\",\"{email1}\",\"{pw}\",\"{pw_h}\")'\n",
    "my_cursor.execute(insSQL)\n",
    "dbConn.commit() "
   ]
  },
  {
   "cell_type": "code",
   "execution_count": null,
   "metadata": {},
   "outputs": [],
   "source": [
    "import mysql.connector as myconn\n",
    "import hashlib\n",
    "\n",
    "dbConn=myconn.connect(\n",
    "    host=\"localhost\",\n",
    "    user=\"Kuo\",\n",
    "    password=\"D1146229\",\n",
    "    database=\"testuser\"\n",
    ")\n",
    "my_cursor=dbConn.cursor()\n",
    "sql='INSERT INTO `users`(account,name, email, password) values ($s,$s,$s,$s)'\n",
    "m=hashlib.sha256()\n",
    "pws=['student_id','name','age','course_id','course_name','instructor']\n",
    "pws_h=[]\n",
    "for pw in pws:\n",
    "    m.update(pw.encode('utf-8'))\n",
    "    pw_h.append(m.hexdigest())\n",
    "records=[(),(),(),(),()]\n",
    "my_cursor.executemany(sql,records)\n",
    "dbConn.commit()"
   ]
  },
  {
   "cell_type": "code",
   "execution_count": 6,
   "metadata": {},
   "outputs": [
    {
     "name": "stdout",
     "output_type": "stream",
     "text": [
      "(1, 'Alice', 19, 'C001', 'Calculus', 'Dr. Lee')\n",
      "(5, 'Emily', 19, 'C002', 'Discrete Math', 'Prof. Lin')\n",
      "(6, 'Jimmy', 18, 'C002', 'Discrete Math', 'Prof. Lin')\n",
      "(7, 'Ken', 20, 'C002', 'Discrete Math', 'Prof. Lin')\n",
      "(8, 'Jack', 19, 'C001', 'Calculus', 'Dr. Lee')\n",
      "(12, 'A', 11, 'C111', 'ada', 'aaa')\n",
      "(15, 'ab', 45, 'C111', 'ssad', 'aaa')\n"
     ]
    }
   ],
   "source": [
    "import mysql.connector as myconn\n",
    "import hashlib\n",
    "\n",
    "dbConn=myconn.connect(\n",
    "    host=\"localhost\",\n",
    "    user=\"Kuo\",\n",
    "    password=\"D1146229\",\n",
    "    database=\"Kuo\"\n",
    ")\n",
    "my_cursor=dbConn.cursor()\n",
    "sql='SELECT * FROM `student_courses`WHERE course_id like \"C%\" ;'\n",
    "my_cursor.execute(sql)\n",
    "result=my_cursor.fetchall()\n",
    "for row in result:\n",
    "    print(row)"
   ]
  },
  {
   "cell_type": "code",
   "execution_count": 11,
   "metadata": {},
   "outputs": [
    {
     "name": "stdout",
     "output_type": "stream",
     "text": [
      "[('C:/Users/user/Desktop/郭善莉的資料/大一下/coding class/summary/family.png',), ('C:/Users/user/Desktop/郭善莉的資料/大一下/coding class/summary/family02.png',), ('C:/Users/user/Desktop/郭善莉的資料/大一下/coding class/summary/family03.png',), ('C:/Users/user/Desktop/郭善莉的資料/大一下/coding class/summary/family04.png',), ('C:/Users/user/Desktop/郭善莉的資料/大一下/coding class/summary/family05.png',)]\n"
     ]
    }
   ],
   "source": [
    "dbConn=myconn.connect(\n",
    "        host=\"localhost\",\n",
    "        user=\"Kuo\",\n",
    "        password=\"D1146229\",\n",
    "        database=\"Kuo\"\n",
    "    )\n",
    "cursor=dbConn.cursor()\n",
    "query = \"SELECT file_name FROM `photodt` WHERE type='family'\"\n",
    "cursor.execute(query)\n",
    "result=cursor.fetchall()\n",
    "print(result)"
   ]
  },
  {
   "cell_type": "code",
   "execution_count": 7,
   "metadata": {},
   "outputs": [
    {
     "name": "stdout",
     "output_type": "stream",
     "text": [
      "{'KUO': 'b5e32b551a4a83f7138fda78c4fd48ff918b7c2e3b0ea10f449815908c714525', 'jia': '82a5b34244868037ea98f7c35fae370ae7992caaf32f0bc37f1de8d6aecf6628'}\n",
      "['KUO', 'jia']\n"
     ]
    }
   ],
   "source": [
    "import mysql.connector as myconn\n",
    "import hashlib\n",
    "\n",
    "dbConn=myconn.connect(\n",
    "    host=\"localhost\",\n",
    "    user=\"Kuo\",\n",
    "    password=\"D1146229\",\n",
    "    database=\"Kuo\"\n",
    ")\n",
    "my_cursor=dbConn.cursor()\n",
    "sql = \"SELECT * FROM `users2`  \"\n",
    "my_cursor.execute(sql)\n",
    "result=my_cursor.fetchall()\n",
    "dict1={}\n",
    "n=[]\n",
    "c=[]\n",
    "m=0\n",
    "for row in result:\n",
    "    for i in row:\n",
    "        n.append(i)\n",
    "    \n",
    "for i in range(len(n)):\n",
    "    if i%3==1:\n",
    "        dict1[n[i]]=n[i+1]\n",
    "for row in result:\n",
    "        for i in row:\n",
    "            if m%3==1:\n",
    "                c.append(i)\n",
    "            m+=1\n",
    "print(dict1)\n",
    "print(c)\n",
    "\n"
   ]
  },
  {
   "cell_type": "code",
   "execution_count": 30,
   "metadata": {},
   "outputs": [
    {
     "name": "stdout",
     "output_type": "stream",
     "text": [
      "(1, 'Alice', 19, 'C001', 'Calculus', 'Dr. Lee')\n",
      "(5, 'Emily', 19, 'C002', 'Discrete Math', 'Prof. Lin')\n",
      "(6, 'Jimmy', 18, 'C002', 'Discrete Math', 'Prof. Lin')\n",
      "(7, 'Ken', 20, 'C002', 'Discrete Math', 'Prof. Lin')\n",
      "(8, 'Jack', 19, 'C001', 'Calculus', 'Dr. Lee')\n",
      "(12, 'A', 11, 'C111', 'ada', 'aaa')\n"
     ]
    }
   ],
   "source": [
    "my_cursor.execute(sql)\n",
    "result=my_cursor.fetchall()\n",
    "for row in result:\n",
    "    for i in range(len(row)):\n",
    "        if i%3==0:\n",
    "            if type(row[i])==str:\n",
    "                if row[i][0]==\"C\":\n",
    "                    print(row)\n",
    "                    "
   ]
  },
  {
   "cell_type": "code",
   "execution_count": null,
   "metadata": {},
   "outputs": [],
   "source": []
  },
  {
   "cell_type": "code",
   "execution_count": 6,
   "metadata": {},
   "outputs": [
    {
     "name": "stdout",
     "output_type": "stream",
     "text": [
      "['yoga', 'sharon', 'KUO']\n"
     ]
    }
   ],
   "source": [
    "import mysql.connector as myconn\n",
    "import hashlib\n",
    "\n",
    "dbConn=myconn.connect(\n",
    "    host=\"localhost\",\n",
    "    user=\"Kuo\",\n",
    "    password=\"D1146229\",\n",
    "    database=\"Kuo\"\n",
    ")\n",
    "my_cursor=dbConn.cursor()\n",
    "sql='SELECT*FROM `users`;'\n",
    "my_cursor.execute(sql)\n",
    "result=my_cursor.fetchall()\n",
    "name=[]\n",
    "n=0\n",
    "for row in result:\n",
    "    for i in row:\n",
    "        if n%2==0:\n",
    "            name.append(i)\n",
    "        n+=1\n",
    "print(name)"
   ]
  },
  {
   "attachments": {},
   "cell_type": "markdown",
   "metadata": {},
   "source": [
    "## GUI"
   ]
  },
  {
   "cell_type": "code",
   "execution_count": 3,
   "metadata": {},
   "outputs": [],
   "source": [
    "# 定義函式，將使用者輸入插入資料庫\n",
    "from bs4 import BeautifulSoup as bs\n",
    "import csv\n",
    "from tkinter import *\n",
    "import tkinter as tk \n",
    "def save_user():\n",
    "    name = name_entry.get()\n",
    "    age = email_entry.get()\n",
    "    course_id = username_entry.get()\n",
    "    course_name = password_entry.get()\n",
    "    instructor = instructor_entry.get()\n",
    "    \n",
    "    cursor = dbConn.cursor()\n",
    "    query = \"INSERT INTO `student_courses` (name, age, course_id, course_name,instructor) VALUES (%s, %s, %s, %s,%s)\"\n",
    "    values = (name, age, course_id, course_name,instructor)\n",
    "    cursor.execute(query, values)\n",
    "    dbConn.commit()\n",
    "    cursor.close()\n",
    "  # 清空輸入欄位\n",
    "    name_entry.delete(0, tk.END)\n",
    "    email_entry.delete(0, tk.END)\n",
    "    username_entry.delete(0, tk.END)\n",
    "    password_entry.delete(0, tk.END)\n",
    "    instructor_entry.delete(0, tk.END)\n",
    "    # 創建 GUI 視窗\n",
    "root = tk.Tk()\n",
    "\n",
    "# 設定視窗標題\n",
    "root.title(\"Create User\")\n",
    "root.geometry(\"300x200\")\n",
    "\n",
    "# 創建 Label 和 Entry\n",
    "name_label = tk.Label(root, text=\"Name:\")\n",
    "name_label.grid(row=0, column=0, padx=1, pady=5)\n",
    "name_entry = tk.Entry(root)\n",
    "name_entry.grid(row=0, column=1, padx=1, pady=5)\n",
    "\n",
    "email_label = tk.Label(root, text=\"age:\")\n",
    "email_label.grid(row=1, column=0, padx=1, pady=5)\n",
    "email_entry = tk.Entry(root)\n",
    "email_entry.grid(row=1, column=1, padx=1, pady=5)\n",
    "\n",
    "username_label = tk.Label(root, text=\"course_id:\")\n",
    "username_label.grid(row=2, column=0, padx=1, pady=5)\n",
    "username_entry = tk.Entry(root)\n",
    "username_entry.grid(row=2, column=1, padx=1, pady=5)\n",
    "\n",
    "password_label = tk.Label(root, text=\"course_name:\")\n",
    "password_label.grid(row=3, column=0, padx=1, pady=5)\n",
    "password_entry = tk.Entry(root)\n",
    "password_entry.grid(row=3, column=1, padx=1, pady=5)\n",
    "\n",
    "i_label = tk.Label(root, text=\"instructor:\")\n",
    "i_label.grid(row=4, column=0, padx=1, pady=5)\n",
    "instructor_entry = tk.Entry(root)\n",
    "instructor_entry.grid(row=4, column=1, padx=1, pady=5)\n",
    "# 創建 Save 按鈕\n",
    "save_button = tk.Button(root, text=\"Save\", command=save_user)\n",
    "save_button.grid(row=5, column=1)\n",
    "\n",
    "# 執行 GUI\n",
    "root.mainloop()"
   ]
  },
  {
   "cell_type": "code",
   "execution_count": 28,
   "metadata": {},
   "outputs": [],
   "source": [
    "from bs4 import BeautifulSoup as bs\n",
    "import csv\n",
    "from tkinter import *\n",
    "import tkinter as tk \n",
    "def save_users():\n",
    "    for i in range(3):\n",
    "        name = name_entries[i].get()\n",
    "        age = email_entries[i].get()\n",
    "        course_id = username_entries[i].get()\n",
    "        course_name = password_entries[i].get()\n",
    "        instructor = instructor_entries[i].get()\n",
    "\n",
    "        cursor = dbConn.cursor()\n",
    "        query = \"INSERT INTO `student_courses` (name, age, course_id, course_name,instructor) VALUES (%s, %s, %s, %s,%s)\"\n",
    "        values = (name, age, course_id, course_name,instructor)\n",
    "        cursor.execute(query, values)\n",
    "        dbConn.commit()\n",
    "        cursor.close()\n",
    "\n",
    "        # 清空輸入欄位\n",
    "        name_entries[i].delete(0, tk.END)\n",
    "        email_entries[i].delete(0, tk.END)\n",
    "        username_entries[i].delete(0, tk.END)\n",
    "        password_entries[i].delete(0, tk.END)\n",
    "        instructor_entries[i].delete(0, tk.END)\n",
    "    \n",
    "    # 創建 GUI 視窗\n",
    "root = tk.Tk()\n",
    "\n",
    "# 設定視窗標題\n",
    "root.title(\"Create User\")\n",
    "root.geometry(\"800x300\")\n",
    "\n",
    "# 創建 Label 和 Entry\n",
    "name_label = tk.Label(root, text=\"Name:\")\n",
    "name_label.grid(row=0, column=0, padx=1, pady=5)\n",
    "name_entries = []\n",
    "for i in range(3):\n",
    "    name_entry = tk.Entry(root)\n",
    "    name_entry.grid(row=0, column=1+i, padx=1, pady=5)\n",
    "    name_entries.append(name_entry)\n",
    "\n",
    "email_label = tk.Label(root, text=\"age:\")\n",
    "email_label.grid(row=1, column=0, padx=1, pady=5)\n",
    "email_entries = []\n",
    "for i in range(3):\n",
    "    email_entry = tk.Entry(root)\n",
    "    email_entry.grid(row=1, column=1+i, padx=1, pady=5)\n",
    "    email_entries.append(email_entry)\n",
    "\n",
    "username_label = tk.Label(root, text=\"course_id:\")\n",
    "username_label.grid(row=2, column=0, padx=1, pady=5)\n",
    "username_entries = []\n",
    "for i in range(3):\n",
    "    username_entry = tk.Entry(root)\n",
    "    username_entry.grid(row=2, column=1+i, padx=1, pady=5)\n",
    "    username_entries.append(username_entry)\n",
    "\n",
    "password_label = tk.Label(root, text=\"course_name:\")\n",
    "password_label.grid(row=3, column=0, padx=1, pady=5)\n",
    "password_entries = []\n",
    "for i in range(3):\n",
    "    password_entry = tk.Entry(root)\n",
    "    password_entry.grid(row=3, column=1+i, padx=1, pady=5)\n",
    "    password_entries.append(password_entry)\n",
    "\n",
    "i_label = tk.Label(root, text=\"instructor:\")\n",
    "i_label.grid(row=4, column=0, padx=1, pady=5)\n",
    "instructor_entries = []\n",
    "for i in range(3):\n",
    "    instructor_entry = tk.Entry(root)\n",
    "    instructor_entry.grid(row=4, column=1+i, padx=1, pady=5)\n",
    "    instructor_entries.append(instructor_entry)\n",
    "\n",
    "# 創建 Save 按鈕\n",
    "save_button = tk.Button(root, text=\"Save\", command=save_users)\n",
    "save_button.grid(row=5, column=1)\n",
    "\n",
    "# 執行 GUI\n",
    "root.mainloop()"
   ]
  },
  {
   "cell_type": "code",
   "execution_count": null,
   "metadata": {},
   "outputs": [],
   "source": [
    "import mysql.connector as myconn\n",
    "import hashlib\n",
    "\n",
    "dbConn=myconn.connect(\n",
    "    host=\"localhost\",\n",
    "    user=\"Kuo\",\n",
    "    password=\"D1146229\",\n",
    "    database=\"Kuo\"\n",
    ")\n",
    "my_cursor=dbConn.cursor()\n",
    "sql='SELECT*FROM `users` ORDER BY id ASC;'\n",
    "my_cursor.execute(sql)\n",
    "result=my_cursor.fetchall()\n",
    "sql3=\"DELETE FROM `users` WHERE id=5\"\n"
   ]
  }
 ],
 "metadata": {
  "kernelspec": {
   "display_name": "Python 3",
   "language": "python",
   "name": "python3"
  },
  "language_info": {
   "codemirror_mode": {
    "name": "ipython",
    "version": 3
   },
   "file_extension": ".py",
   "mimetype": "text/x-python",
   "name": "python",
   "nbconvert_exporter": "python",
   "pygments_lexer": "ipython3",
   "version": "3.9.0rc2"
  },
  "orig_nbformat": 4
 },
 "nbformat": 4,
 "nbformat_minor": 2
}
